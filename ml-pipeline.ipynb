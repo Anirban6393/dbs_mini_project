{
 "cells": [
  {
   "cell_type": "code",
   "execution_count": 1,
   "id": "49a99da4",
   "metadata": {},
   "outputs": [],
   "source": [
    "import numpy as np\n",
    "import pandas as pd\n",
    "import seaborn as sns\n",
    "import matplotlib.pyplot as plt\n",
    "import warnings\n",
    "warnings.filterwarnings('ignore')\n",
    "from sklearn.model_selection import train_test_split\n",
    "from sklearn.ensemble import RandomForestClassifier\n",
    "from xgboost import XGBClassifier\n",
    "from Modelevaluator import *\n",
    "%matplotlib inline"
   ]
  },
  {
   "cell_type": "code",
   "execution_count": 2,
   "id": "934bf0ad",
   "metadata": {},
   "outputs": [],
   "source": [
    "labels = pd.read_csv('labels.csv')\n",
    "features = pd.read_csv('features.csv')"
   ]
  },
  {
   "cell_type": "code",
   "execution_count": 3,
   "id": "9d523568",
   "metadata": {},
   "outputs": [
    {
     "name": "stdout",
     "output_type": "stream",
     "text": [
      "<class 'pandas.core.frame.DataFrame'>\n",
      "RangeIndex: 8128 entries, 0 to 8127\n",
      "Data columns (total 8 columns):\n",
      " #   Column          Non-Null Count  Dtype  \n",
      "---  ------          --------------  -----  \n",
      " 0   title           8121 non-null   object \n",
      " 1   tags            8116 non-null   object \n",
      " 2   loudness        8118 non-null   float64\n",
      " 3   tempo           8117 non-null   float64\n",
      " 4   time_signature  8119 non-null   float64\n",
      " 5   key             8113 non-null   float64\n",
      " 6   mode            8119 non-null   float64\n",
      " 7   duration        8119 non-null   float64\n",
      "dtypes: float64(6), object(2)\n",
      "memory usage: 508.1+ KB\n"
     ]
    }
   ],
   "source": [
    "features.iloc[:,1:9].info()"
   ]
  },
  {
   "cell_type": "markdown",
   "id": "a8c8ad83",
   "metadata": {},
   "source": [
    "Impute missing values of time_signature with 4 and mode with 1\n"
   ]
  },
  {
   "cell_type": "code",
   "execution_count": 4,
   "id": "31044d29",
   "metadata": {},
   "outputs": [
    {
     "data": {
      "image/png": "[encoded data removed]",
      "text/plain": [
       "<Figure size 432x288 with 3 Axes>"
      ]
     },
     "metadata": {
      "needs_background": "light"
     },
     "output_type": "display_data"
    }
   ],
   "source": [
    "fig, ax =plt.subplots(3,1)\n",
    "plt.rcParams[\"figure.figsize\"] = [7.00, 6.50]\n",
    "plt.rcParams[\"figure.autolayout\"] = True\n",
    "\n",
    "sns.countplot(x='time_signature',data=features,ax=ax[0])\n",
    "sns.countplot(x='key',data=features,ax=ax[1])\n",
    "sns.countplot(x='mode',data=features,ax=ax[2])\n",
    "fig.show()"
   ]
  },
  {
   "cell_type": "markdown",
   "id": "cabbbab7",
   "metadata": {},
   "source": [
    "Impute time_signature with missing value 4.0 (hours probably)"
   ]
  },
  {
   "cell_type": "code",
   "execution_count": 5,
   "id": "d98bdbca",
   "metadata": {},
   "outputs": [],
   "source": [
    "features['time_signature'] = features['time_signature'].fillna(features['time_signature'].mode()[0])\n",
    "\n",
    "features['key'][features['key'].isna()==True] = features['time_signature'][features['key'].isna()==True].map(dict(features.groupby('time_signature')['key'].agg(lambda x:x.value_counts().index[0])))"
   ]
  },
  {
   "cell_type": "code",
   "execution_count": 6,
   "id": "d31524d3",
   "metadata": {},
   "outputs": [],
   "source": [
    "features['mode'][features['mode'].isna()==True] = features['key'][features['mode'].isna()==True].map(dict(features.groupby(['key'])['mode'].agg(lambda x:x.value_counts().index[0])))"
   ]
  },
  {
   "cell_type": "markdown",
   "id": "77c1b49f",
   "metadata": {},
   "source": [
    "### Imputing Missing Numerical Values"
   ]
  },
  {
   "cell_type": "markdown",
   "id": "1c6ea62d",
   "metadata": {},
   "source": [
    "The sklearn IterativeImputer class, which models each feature with missing values as a function of other features, and uses that estimate for imputation. It does so in an iterated round-robin fashion: at each step, a feature column is designated as output y and the other feature columns are treated as inputs X. A regressor is fit on (X, y) for known y. Then, the regressor is used to predict the missing values of y. This is done for each feature in an iterative fashion, and then is repeated for max_iter imputation rounds. The results of the final imputation round are returned.\n",
    "\n",
    "Reference: https://scikit-learn.org/stable/modules/impute.html#multivariate-feature-imputation"
   ]
  },
  {
   "cell_type": "code",
   "execution_count": 7,
   "id": "a706d6be",
   "metadata": {},
   "outputs": [],
   "source": [
    "from sklearn.experimental import enable_iterative_imputer\n",
    "from sklearn.impute import IterativeImputer\n",
    "\n",
    "imp = IterativeImputer(max_iter=10, random_state=0)\n",
    "features[['loudness','tempo','duration']]=imp.fit_transform(features[['loudness','tempo','duration']])"
   ]
  },
  {
   "cell_type": "code",
   "execution_count": 8,
   "id": "87a97918",
   "metadata": {},
   "outputs": [
    {
     "name": "stdout",
     "output_type": "stream",
     "text": [
      "<class 'pandas.core.frame.DataFrame'>\n",
      "RangeIndex: 8128 entries, 0 to 8127\n",
      "Data columns (total 8 columns):\n",
      " #   Column          Non-Null Count  Dtype  \n",
      "---  ------          --------------  -----  \n",
      " 0   title           8121 non-null   object \n",
      " 1   tags            8116 non-null   object \n",
      " 2   loudness        8128 non-null   float64\n",
      " 3   tempo           8128 non-null   float64\n",
      " 4   time_signature  8128 non-null   float64\n",
      " 5   key             8128 non-null   float64\n",
      " 6   mode            8128 non-null   float64\n",
      " 7   duration        8128 non-null   float64\n",
      "dtypes: float64(6), object(2)\n",
      "memory usage: 508.1+ KB\n"
     ]
    }
   ],
   "source": [
    "features.iloc[:,1:9].info()"
   ]
  },
  {
   "cell_type": "markdown",
   "id": "ba835086",
   "metadata": {},
   "source": [
    "### Imputing Missing Vector Values"
   ]
  },
  {
   "cell_type": "code",
   "execution_count": 9,
   "id": "ec1692b3",
   "metadata": {},
   "outputs": [],
   "source": [
    "imp2 = IterativeImputer(max_iter=10, random_state=0)\n",
    "features.loc[:,'vect_1':'vect_148']=imp2.fit_transform(features.loc[:,'vect_1':'vect_148'])"
   ]
  },
  {
   "cell_type": "markdown",
   "id": "85cc4b8e",
   "metadata": {},
   "source": [
    "### Feature Selection"
   ]
  },
  {
   "cell_type": "code",
   "execution_count": 10,
   "id": "719a0ad4",
   "metadata": {},
   "outputs": [
    {
     "name": "stdout",
     "output_type": "stream",
     "text": [
      "-----P-Values of two-way Chi-Square Test involving categorical predictors-----\n",
      "mode :  0.37843063757776735\n",
      "key :  0.5225377550043075\n",
      "time_signature :  0.653536364872702\n"
     ]
    }
   ],
   "source": [
    "from scipy.stats import chi2_contingency\n",
    "\n",
    "print(\"-----P-Values of two-way Chi-Square Test involving categorical predictors-----\")\n",
    "for i in ['mode','key','time_signature']:\n",
    "    cont=pd.crosstab(features[i],labels['genre']) #Contingency table\n",
    "    g, p, dof, expctd = chi2_contingency(cont)\n",
    "    print(i,\": \", p)"
   ]
  },
  {
   "cell_type": "markdown",
   "id": "a2f75700",
   "metadata": {},
   "source": [
    "Strong relationship implied between target column genre and the categorical predictors time_signature, key and mode."
   ]
  },
  {
   "cell_type": "code",
   "execution_count": 11,
   "id": "4f385d48",
   "metadata": {},
   "outputs": [
    {
     "data": {
      "text/html": [
       "<div>\n",
       "<style scoped>\n",
       "    .dataframe tbody tr th:only-of-type {\n",
       "        vertical-align: middle;\n",
       "    }\n",
       "\n",
       "    .dataframe tbody tr th {\n",
       "        vertical-align: top;\n",
       "    }\n",
       "\n",
       "    .dataframe thead th {\n",
       "        text-align: right;\n",
       "    }\n",
       "</style>\n",
       "<table border=\"1\" class=\"dataframe\">\n",
       "  <thead>\n",
       "    <tr style=\"text-align: right;\">\n",
       "      <th></th>\n",
       "      <th>loudness</th>\n",
       "      <th>tempo</th>\n",
       "      <th>duration</th>\n",
       "    </tr>\n",
       "  </thead>\n",
       "  <tbody>\n",
       "    <tr>\n",
       "      <th>loudness</th>\n",
       "      <td>1.000000</td>\n",
       "      <td>0.212773</td>\n",
       "      <td>0.031177</td>\n",
       "    </tr>\n",
       "    <tr>\n",
       "      <th>tempo</th>\n",
       "      <td>0.212773</td>\n",
       "      <td>1.000000</td>\n",
       "      <td>-0.038572</td>\n",
       "    </tr>\n",
       "    <tr>\n",
       "      <th>duration</th>\n",
       "      <td>0.031177</td>\n",
       "      <td>-0.038572</td>\n",
       "      <td>1.000000</td>\n",
       "    </tr>\n",
       "  </tbody>\n",
       "</table>\n",
       "</div>"
      ],
      "text/plain": [
       "          loudness     tempo  duration\n",
       "loudness  1.000000  0.212773  0.031177\n",
       "tempo     0.212773  1.000000 -0.038572\n",
       "duration  0.031177 -0.038572  1.000000"
      ]
     },
     "execution_count": 11,
     "metadata": {},
     "output_type": "execute_result"
    }
   ],
   "source": [
    "features[['loudness','tempo','duration']].corr()"
   ]
  },
  {
   "cell_type": "markdown",
   "id": "42ccddef",
   "metadata": {},
   "source": [
    "No multicollinearity between duration, tempo and loudness."
   ]
  },
  {
   "cell_type": "code",
   "execution_count": 12,
   "id": "b453162a",
   "metadata": {},
   "outputs": [],
   "source": [
    "from statsmodels.stats.outliers_influence import variance_inflation_factor\n",
    "\n",
    "def calc_vif(X):\n",
    "    # Calculating VIF\n",
    "    vif = pd.DataFrame()\n",
    "    vif[\"variables\"] = X.columns\n",
    "    vif[\"VIF\"] = [variance_inflation_factor(X.values, i) for i in range(X.shape[1])]\n",
    "    return(vif)"
   ]
  },
  {
   "cell_type": "code",
   "execution_count": 13,
   "id": "8d83c447",
   "metadata": {},
   "outputs": [
    {
     "data": {
      "text/html": [
       "<div>\n",
       "<style scoped>\n",
       "    .dataframe tbody tr th:only-of-type {\n",
       "        vertical-align: middle;\n",
       "    }\n",
       "\n",
       "    .dataframe tbody tr th {\n",
       "        vertical-align: top;\n",
       "    }\n",
       "\n",
       "    .dataframe thead th {\n",
       "        text-align: right;\n",
       "    }\n",
       "</style>\n",
       "<table border=\"1\" class=\"dataframe\">\n",
       "  <thead>\n",
       "    <tr style=\"text-align: right;\">\n",
       "      <th></th>\n",
       "      <th>variables</th>\n",
       "      <th>VIF</th>\n",
       "    </tr>\n",
       "  </thead>\n",
       "  <tbody>\n",
       "    <tr>\n",
       "      <th>0</th>\n",
       "      <td>vect_1</td>\n",
       "      <td>364.503793</td>\n",
       "    </tr>\n",
       "    <tr>\n",
       "      <th>15</th>\n",
       "      <td>vect_16</td>\n",
       "      <td>21.976124</td>\n",
       "    </tr>\n",
       "    <tr>\n",
       "      <th>17</th>\n",
       "      <td>vect_18</td>\n",
       "      <td>38.410831</td>\n",
       "    </tr>\n",
       "    <tr>\n",
       "      <th>19</th>\n",
       "      <td>vect_20</td>\n",
       "      <td>28.939634</td>\n",
       "    </tr>\n",
       "    <tr>\n",
       "      <th>21</th>\n",
       "      <td>vect_22</td>\n",
       "      <td>45.078644</td>\n",
       "    </tr>\n",
       "    <tr>\n",
       "      <th>...</th>\n",
       "      <td>...</td>\n",
       "      <td>...</td>\n",
       "    </tr>\n",
       "    <tr>\n",
       "      <th>143</th>\n",
       "      <td>vect_144</td>\n",
       "      <td>813.828408</td>\n",
       "    </tr>\n",
       "    <tr>\n",
       "      <th>144</th>\n",
       "      <td>vect_145</td>\n",
       "      <td>704.506281</td>\n",
       "    </tr>\n",
       "    <tr>\n",
       "      <th>145</th>\n",
       "      <td>vect_146</td>\n",
       "      <td>451.028298</td>\n",
       "    </tr>\n",
       "    <tr>\n",
       "      <th>146</th>\n",
       "      <td>vect_147</td>\n",
       "      <td>37.376576</td>\n",
       "    </tr>\n",
       "    <tr>\n",
       "      <th>147</th>\n",
       "      <td>vect_148</td>\n",
       "      <td>214.736593</td>\n",
       "    </tr>\n",
       "  </tbody>\n",
       "</table>\n",
       "<p>120 rows × 2 columns</p>\n",
       "</div>"
      ],
      "text/plain": [
       "    variables         VIF\n",
       "0      vect_1  364.503793\n",
       "15    vect_16   21.976124\n",
       "17    vect_18   38.410831\n",
       "19    vect_20   28.939634\n",
       "21    vect_22   45.078644\n",
       "..        ...         ...\n",
       "143  vect_144  813.828408\n",
       "144  vect_145  704.506281\n",
       "145  vect_146  451.028298\n",
       "146  vect_147   37.376576\n",
       "147  vect_148  214.736593\n",
       "\n",
       "[120 rows x 2 columns]"
      ]
     },
     "execution_count": 13,
     "metadata": {},
     "output_type": "execute_result"
    }
   ],
   "source": [
    "vif=calc_vif(features.loc[:,'vect_1':'vect_148'])\n",
    "vif[vif['VIF']>20]"
   ]
  },
  {
   "cell_type": "markdown",
   "id": "8cfa30fb",
   "metadata": {},
   "source": [
    "Most of the vector features (above 120) have high variances.\n",
    "\n",
    "Principal component analysis (PCA) is a technique for reducing the dimensionality of such datasets, increasing interpretability but at the same time minimizing information loss. It does so by creating new uncorrelated variables that successively maximize variance."
   ]
  },
  {
   "cell_type": "code",
   "execution_count": 14,
   "id": "f611a0ce",
   "metadata": {},
   "outputs": [
    {
     "data": {
      "text/html": [
       "<div>\n",
       "<style scoped>\n",
       "    .dataframe tbody tr th:only-of-type {\n",
       "        vertical-align: middle;\n",
       "    }\n",
       "\n",
       "    .dataframe tbody tr th {\n",
       "        vertical-align: top;\n",
       "    }\n",
       "\n",
       "    .dataframe thead th {\n",
       "        text-align: right;\n",
       "    }\n",
       "</style>\n",
       "<table border=\"1\" class=\"dataframe\">\n",
       "  <thead>\n",
       "    <tr style=\"text-align: right;\">\n",
       "      <th></th>\n",
       "      <th>pca1</th>\n",
       "      <th>pca2</th>\n",
       "      <th>pca3</th>\n",
       "      <th>pca4</th>\n",
       "      <th>pca5</th>\n",
       "    </tr>\n",
       "  </thead>\n",
       "  <tbody>\n",
       "    <tr>\n",
       "      <th>0</th>\n",
       "      <td>-4.477561</td>\n",
       "      <td>5.039648</td>\n",
       "      <td>-0.034835</td>\n",
       "      <td>-1.246566</td>\n",
       "      <td>1.818353</td>\n",
       "    </tr>\n",
       "    <tr>\n",
       "      <th>1</th>\n",
       "      <td>6.565589</td>\n",
       "      <td>-7.818068</td>\n",
       "      <td>-1.011638</td>\n",
       "      <td>-2.166262</td>\n",
       "      <td>-2.990009</td>\n",
       "    </tr>\n",
       "    <tr>\n",
       "      <th>2</th>\n",
       "      <td>4.155065</td>\n",
       "      <td>-3.313893</td>\n",
       "      <td>-0.634046</td>\n",
       "      <td>6.953128</td>\n",
       "      <td>1.965094</td>\n",
       "    </tr>\n",
       "    <tr>\n",
       "      <th>3</th>\n",
       "      <td>-3.042738</td>\n",
       "      <td>4.914606</td>\n",
       "      <td>-0.070573</td>\n",
       "      <td>-3.489479</td>\n",
       "      <td>-7.514606</td>\n",
       "    </tr>\n",
       "    <tr>\n",
       "      <th>4</th>\n",
       "      <td>5.127166</td>\n",
       "      <td>5.574076</td>\n",
       "      <td>-0.280892</td>\n",
       "      <td>-1.894432</td>\n",
       "      <td>2.710766</td>\n",
       "    </tr>\n",
       "  </tbody>\n",
       "</table>\n",
       "</div>"
      ],
      "text/plain": [
       "       pca1      pca2      pca3      pca4      pca5\n",
       "0 -4.477561  5.039648 -0.034835 -1.246566  1.818353\n",
       "1  6.565589 -7.818068 -1.011638 -2.166262 -2.990009\n",
       "2  4.155065 -3.313893 -0.634046  6.953128  1.965094\n",
       "3 -3.042738  4.914606 -0.070573 -3.489479 -7.514606\n",
       "4  5.127166  5.574076 -0.280892 -1.894432  2.710766"
      ]
     },
     "execution_count": 14,
     "metadata": {},
     "output_type": "execute_result"
    }
   ],
   "source": [
    "\n",
    "\n",
    "x_vectors=pca_apply(features)\n",
    "x_vectors.head()"
   ]
  },
  {
   "cell_type": "code",
   "execution_count": 15,
   "id": "a145676a",
   "metadata": {},
   "outputs": [
    {
     "data": {
      "text/plain": [
       "classic pop and rock     1684\n",
       "folk                     1665\n",
       "metal                    1209\n",
       "soul and reggae           988\n",
       "punk                      981\n",
       "pop                       731\n",
       "dance and electronica     523\n",
       "jazz and blues            347\n",
       "Name: genre, dtype: int64"
      ]
     },
     "execution_count": 15,
     "metadata": {},
     "output_type": "execute_result"
    }
   ],
   "source": [
    "labels['genre'].value_counts()"
   ]
  },
  {
   "cell_type": "code",
   "execution_count": 16,
   "id": "885272ee",
   "metadata": {},
   "outputs": [
    {
     "data": {
      "text/html": [
       "<div>\n",
       "<style scoped>\n",
       "    .dataframe tbody tr th:only-of-type {\n",
       "        vertical-align: middle;\n",
       "    }\n",
       "\n",
       "    .dataframe tbody tr th {\n",
       "        vertical-align: top;\n",
       "    }\n",
       "\n",
       "    .dataframe thead th {\n",
       "        text-align: right;\n",
       "    }\n",
       "</style>\n",
       "<table border=\"1\" class=\"dataframe\">\n",
       "  <thead>\n",
       "    <tr style=\"text-align: right;\">\n",
       "      <th></th>\n",
       "      <th>genre</th>\n",
       "      <th>trackID</th>\n",
       "    </tr>\n",
       "  </thead>\n",
       "  <tbody>\n",
       "    <tr>\n",
       "      <th>0</th>\n",
       "      <td>classic pop and rock</td>\n",
       "      <td>1.0</td>\n",
       "    </tr>\n",
       "    <tr>\n",
       "      <th>1</th>\n",
       "      <td>dance and electronica</td>\n",
       "      <td>7.0</td>\n",
       "    </tr>\n",
       "    <tr>\n",
       "      <th>2</th>\n",
       "      <td>folk</td>\n",
       "      <td>2.0</td>\n",
       "    </tr>\n",
       "    <tr>\n",
       "      <th>3</th>\n",
       "      <td>jazz and blues</td>\n",
       "      <td>8.0</td>\n",
       "    </tr>\n",
       "    <tr>\n",
       "      <th>4</th>\n",
       "      <td>metal</td>\n",
       "      <td>3.0</td>\n",
       "    </tr>\n",
       "    <tr>\n",
       "      <th>5</th>\n",
       "      <td>pop</td>\n",
       "      <td>6.0</td>\n",
       "    </tr>\n",
       "    <tr>\n",
       "      <th>6</th>\n",
       "      <td>punk</td>\n",
       "      <td>5.0</td>\n",
       "    </tr>\n",
       "    <tr>\n",
       "      <th>7</th>\n",
       "      <td>soul and reggae</td>\n",
       "      <td>4.0</td>\n",
       "    </tr>\n",
       "  </tbody>\n",
       "</table>\n",
       "</div>"
      ],
      "text/plain": [
       "                   genre  trackID\n",
       "0   classic pop and rock      1.0\n",
       "1  dance and electronica      7.0\n",
       "2                   folk      2.0\n",
       "3         jazz and blues      8.0\n",
       "4                  metal      3.0\n",
       "5                    pop      6.0\n",
       "6                   punk      5.0\n",
       "7        soul and reggae      4.0"
      ]
     },
     "execution_count": 16,
     "metadata": {},
     "output_type": "execute_result"
    }
   ],
   "source": [
    "#Rank job categories by occurences of count\n",
    "job_rankings = labels.groupby('genre')['trackID'].count().rank(ascending=False).reset_index()\n",
    "job_rankings"
   ]
  },
  {
   "cell_type": "code",
   "execution_count": 17,
   "id": "33a81d38",
   "metadata": {},
   "outputs": [
    {
     "data": {
      "text/plain": [
       "{'metal': 1.0,\n",
       " 'folk': 1.0,\n",
       " 'jazz and blues': 3,\n",
       " 'soul and reggae': 2,\n",
       " 'classic pop and rock': 1.0,\n",
       " 'punk': 2,\n",
       " 'dance and electronica': 3,\n",
       " 'pop': 2}"
      ]
     },
     "execution_count": 17,
     "metadata": {},
     "output_type": "execute_result"
    }
   ],
   "source": [
    "class_weights = dict(zip(labels['genre'].unique(),np.ones(len(labels['genre'].unique()))))\n",
    "\n",
    "for i in job_rankings.itertuples():\n",
    "  if i[2]>6:\n",
    "    class_weights[i[1]]= 3\n",
    "  elif 4<=i[2]<=6:\n",
    "    class_weights[i[1]]= 2\n",
    "  #else:\n",
    "    #class_weights[i[1]]= 1.2\n",
    "        \n",
    "class_weights"
   ]
  },
  {
   "cell_type": "markdown",
   "id": "311ebf38",
   "metadata": {},
   "source": [
    "### Training Algorithm"
   ]
  },
  {
   "cell_type": "raw",
   "id": "7f4d4635",
   "metadata": {},
   "source": []
  },
  {
   "cell_type": "code",
   "execution_count": 18,
   "id": "f6e6a628",
   "metadata": {},
   "outputs": [],
   "source": [
    "\n",
    "\n",
    "test = pd.read_csv('test.csv')\n",
    "x=pd.concat([features.loc[:,'loudness':'duration'], x_vectors],axis=1)\n",
    "y=labels['genre']\n",
    "x_train, x_test, y_train, y_test = train_test_split(x, y, test_size=0.35)"
   ]
  },
  {
   "cell_type": "raw",
   "id": "fa95c485",
   "metadata": {},
   "source": [
    "RandomForestClassifier(n_estimators=150, n_jobs=-1, random_state=5, max_depth=12,max_features='auto',class_weight=class_weights)"
   ]
  },
  {
   "cell_type": "code",
   "execution_count": 19,
   "id": "c9ac30eb",
   "metadata": {},
   "outputs": [],
   "source": [
    "#Cross Validate Logistic Regression Classifier\n",
    "model = XGBClassifier(max_depth=8, learning_rate=1.8, n_estimators=5, n_jobs=-1,\n",
    "                      num_iterations=10000,\n",
    "                      objective='multi:softprob',\n",
    "                      metric='multiclass',\n",
    "                    eval_metric='mlogloss',\n",
    "                     boosting='gbdt',scale_pos_weight=class_weights)\n",
    "mod = Modelevaluator(model,x_train, x_test, y_train, y_test,test)"
   ]
  },
  {
   "cell_type": "code",
   "execution_count": 20,
   "id": "5d9647ab",
   "metadata": {},
   "outputs": [
    {
     "name": "stdout",
     "output_type": "stream",
     "text": [
      "[15:54:56] WARNING: C:/Users/Administrator/workspace/xgboost-win64_release_1.4.0/src/learner.cc:573: \n",
      "Parameters: { \"boosting\", \"metric\", \"num_iterations\", \"scale_pos_weight\" } might not be used.\n",
      "\n",
      "  This may not be accurate due to some parameters are only used in language bindings but\n",
      "  passed down to XGBoost core.  Or some parameters are not used but slip through this\n",
      "  verification. Please open an issue if you find above cases.\n",
      "\n",
      "\n",
      "[15:54:57] WARNING: C:/Users/Administrator/workspace/xgboost-win64_release_1.4.0/src/learner.cc:573: \n",
      "Parameters: { \"boosting\", \"metric\", \"num_iterations\", \"scale_pos_weight\" } might not be used.\n",
      "\n",
      "  This may not be accurate due to some parameters are only used in language bindings but\n",
      "  passed down to XGBoost core.  Or some parameters are not used but slip through this\n",
      "  verification. Please open an issue if you find above cases.\n",
      "\n",
      "\n",
      "[15:54:57] WARNING: C:/Users/Administrator/workspace/xgboost-win64_release_1.4.0/src/learner.cc:573: \n",
      "Parameters: { \"boosting\", \"metric\", \"num_iterations\", \"scale_pos_weight\" } might not be used.\n",
      "\n",
      "  This may not be accurate due to some parameters are only used in language bindings but\n",
      "  passed down to XGBoost core.  Or some parameters are not used but slip through this\n",
      "  verification. Please open an issue if you find above cases.\n",
      "\n",
      "\n",
      "[15:54:57] WARNING: C:/Users/Administrator/workspace/xgboost-win64_release_1.4.0/src/learner.cc:573: \n",
      "Parameters: { \"boosting\", \"metric\", \"num_iterations\", \"scale_pos_weight\" } might not be used.\n",
      "\n",
      "  This may not be accurate due to some parameters are only used in language bindings but\n",
      "  passed down to XGBoost core.  Or some parameters are not used but slip through this\n",
      "  verification. Please open an issue if you find above cases.\n",
      "\n",
      "\n",
      "[15:54:57] WARNING: C:/Users/Administrator/workspace/xgboost-win64_release_1.4.0/src/learner.cc:573: \n",
      "Parameters: { \"boosting\", \"metric\", \"num_iterations\", \"scale_pos_weight\" } might not be used.\n",
      "\n",
      "  This may not be accurate due to some parameters are only used in language bindings but\n",
      "  passed down to XGBoost core.  Or some parameters are not used but slip through this\n",
      "  verification. Please open an issue if you find above cases.\n",
      "\n",
      "\n",
      "Overfitting , mean_train_score: 0.828 , mean_test_score: 0.144\n"
     ]
    }
   ],
   "source": [
    "mod.cross_evaluation(cv_int=5)"
   ]
  },
  {
   "cell_type": "code",
   "execution_count": 21,
   "id": "98d672d8",
   "metadata": {},
   "outputs": [
    {
     "name": "stdout",
     "output_type": "stream",
     "text": [
      "[15:54:58] WARNING: C:/Users/Administrator/workspace/xgboost-win64_release_1.4.0/src/learner.cc:573: \n",
      "Parameters: { \"boosting\", \"metric\", \"num_iterations\", \"scale_pos_weight\" } might not be used.\n",
      "\n",
      "  This may not be accurate due to some parameters are only used in language bindings but\n",
      "  passed down to XGBoost core.  Or some parameters are not used but slip through this\n",
      "  verification. Please open an issue if you find above cases.\n",
      "\n",
      "\n"
     ]
    },
    {
     "data": {
      "image/png": "[encoded data removed]",
      "text/plain": [
       "<Figure size 720x720 with 2 Axes>"
      ]
     },
     "metadata": {
      "needs_background": "light"
     },
     "output_type": "display_data"
    },
    {
     "name": "stdout",
     "output_type": "stream",
     "text": [
      "[15:54:58] WARNING: C:/Users/Administrator/workspace/xgboost-win64_release_1.4.0/src/learner.cc:573: \n",
      "Parameters: { \"boosting\", \"metric\", \"num_iterations\", \"scale_pos_weight\" } might not be used.\n",
      "\n",
      "  This may not be accurate due to some parameters are only used in language bindings but\n",
      "  passed down to XGBoost core.  Or some parameters are not used but slip through this\n",
      "  verification. Please open an issue if you find above cases.\n",
      "\n",
      "\n",
      "                       precision    recall  f1-score   support\n",
      "\n",
      " classic pop and rock       0.21      0.23      0.22       604\n",
      "dance and electronica       0.05      0.05      0.05       165\n",
      "                 folk       0.22      0.24      0.23       596\n",
      "       jazz and blues       0.03      0.03      0.03       114\n",
      "                metal       0.17      0.17      0.17       426\n",
      "                  pop       0.10      0.10      0.10       233\n",
      "                 punk       0.14      0.11      0.12       358\n",
      "      soul and reggae       0.12      0.11      0.11       349\n",
      "\n",
      "             accuracy                           0.16      2845\n",
      "            macro avg       0.13      0.13      0.13      2845\n",
      "         weighted avg       0.16      0.16      0.16      2845\n",
      "\n"
     ]
    }
   ],
   "source": [
    "mod.confusion_matrix()\n",
    "mod.classification_report()"
   ]
  },
  {
   "cell_type": "code",
   "execution_count": 22,
   "id": "dc99daf5",
   "metadata": {},
   "outputs": [
    {
     "data": {
      "text/plain": [
       "pca5              0.099893\n",
       "pca4              0.097863\n",
       "duration          0.095283\n",
       "pca2              0.094515\n",
       "pca1              0.094056\n",
       "tempo             0.092883\n",
       "loudness          0.092120\n",
       "pca3              0.090891\n",
       "time_signature    0.087025\n",
       "key               0.084212\n",
       "mode              0.071259\n",
       "dtype: float32"
      ]
     },
     "execution_count": 22,
     "metadata": {},
     "output_type": "execute_result"
    }
   ],
   "source": [
    "mod.plot_feature_importances()"
   ]
  },
  {
   "cell_type": "code",
   "execution_count": 23,
   "id": "fd77cd03",
   "metadata": {},
   "outputs": [],
   "source": [
    "mod.save_model('xgbclassifier.pkl')"
   ]
  },
  {
   "cell_type": "code",
   "execution_count": 24,
   "id": "4c2cbc0c",
   "metadata": {},
   "outputs": [
    {
     "data": {
      "text/html": [
       "<div>\n",
       "<style scoped>\n",
       "    .dataframe tbody tr th:only-of-type {\n",
       "        vertical-align: middle;\n",
       "    }\n",
       "\n",
       "    .dataframe tbody tr th {\n",
       "        vertical-align: top;\n",
       "    }\n",
       "\n",
       "    .dataframe thead th {\n",
       "        text-align: right;\n",
       "    }\n",
       "</style>\n",
       "<table border=\"1\" class=\"dataframe\">\n",
       "  <thead>\n",
       "    <tr style=\"text-align: right;\">\n",
       "      <th></th>\n",
       "      <th>title</th>\n",
       "      <th>loudness</th>\n",
       "      <th>tempo</th>\n",
       "      <th>time_signature</th>\n",
       "      <th>key</th>\n",
       "      <th>mode</th>\n",
       "      <th>duration</th>\n",
       "      <th>pca1</th>\n",
       "      <th>pca2</th>\n",
       "      <th>pca3</th>\n",
       "      <th>pca4</th>\n",
       "      <th>pca5</th>\n",
       "      <th>genre</th>\n",
       "    </tr>\n",
       "  </thead>\n",
       "  <tbody>\n",
       "    <tr>\n",
       "      <th>0</th>\n",
       "      <td>You Get What You Give</td>\n",
       "      <td>-5.672</td>\n",
       "      <td>113.941</td>\n",
       "      <td>4</td>\n",
       "      <td>2</td>\n",
       "      <td>1</td>\n",
       "      <td>300.82567</td>\n",
       "      <td>-1.144715</td>\n",
       "      <td>6.116385</td>\n",
       "      <td>1.765811</td>\n",
       "      <td>-1.468044</td>\n",
       "      <td>0.266237</td>\n",
       "      <td>pop</td>\n",
       "    </tr>\n",
       "    <tr>\n",
       "      <th>1</th>\n",
       "      <td>Greedee</td>\n",
       "      <td>-7.931</td>\n",
       "      <td>102.062</td>\n",
       "      <td>4</td>\n",
       "      <td>11</td>\n",
       "      <td>1</td>\n",
       "      <td>259.60444</td>\n",
       "      <td>-2.178923</td>\n",
       "      <td>8.924952</td>\n",
       "      <td>2.493993</td>\n",
       "      <td>-0.223448</td>\n",
       "      <td>-1.943375</td>\n",
       "      <td>pop</td>\n",
       "    </tr>\n",
       "    <tr>\n",
       "      <th>2</th>\n",
       "      <td>Wonderful World</td>\n",
       "      <td>-16.714</td>\n",
       "      <td>85.513</td>\n",
       "      <td>5</td>\n",
       "      <td>8</td>\n",
       "      <td>0</td>\n",
       "      <td>128.36526</td>\n",
       "      <td>-4.667750</td>\n",
       "      <td>-2.351404</td>\n",
       "      <td>0.693398</td>\n",
       "      <td>-4.196365</td>\n",
       "      <td>-0.167289</td>\n",
       "      <td>classic pop and rock</td>\n",
       "    </tr>\n",
       "    <tr>\n",
       "      <th>3</th>\n",
       "      <td>Michoacan</td>\n",
       "      <td>-13.346</td>\n",
       "      <td>124.447</td>\n",
       "      <td>4</td>\n",
       "      <td>3</td>\n",
       "      <td>1</td>\n",
       "      <td>180.37506</td>\n",
       "      <td>-4.577429</td>\n",
       "      <td>-1.441989</td>\n",
       "      <td>-0.926254</td>\n",
       "      <td>-2.476596</td>\n",
       "      <td>-2.970399</td>\n",
       "      <td>classic pop and rock</td>\n",
       "    </tr>\n",
       "    <tr>\n",
       "      <th>4</th>\n",
       "      <td>HUSTLER</td>\n",
       "      <td>-9.365</td>\n",
       "      <td>127.018</td>\n",
       "      <td>4</td>\n",
       "      <td>7</td>\n",
       "      <td>1</td>\n",
       "      <td>483.26485</td>\n",
       "      <td>7.457590</td>\n",
       "      <td>-5.626451</td>\n",
       "      <td>3.329290</td>\n",
       "      <td>-0.839178</td>\n",
       "      <td>-5.198753</td>\n",
       "      <td>classic pop and rock</td>\n",
       "    </tr>\n",
       "  </tbody>\n",
       "</table>\n",
       "</div>"
      ],
      "text/plain": [
       "                   title  loudness    tempo  time_signature  key  mode  \\\n",
       "0  You Get What You Give    -5.672  113.941               4    2     1   \n",
       "1                Greedee    -7.931  102.062               4   11     1   \n",
       "2        Wonderful World   -16.714   85.513               5    8     0   \n",
       "3              Michoacan   -13.346  124.447               4    3     1   \n",
       "4                HUSTLER    -9.365  127.018               4    7     1   \n",
       "\n",
       "    duration      pca1      pca2      pca3      pca4      pca5  \\\n",
       "0  300.82567 -1.144715  6.116385  1.765811 -1.468044  0.266237   \n",
       "1  259.60444 -2.178923  8.924952  2.493993 -0.223448 -1.943375   \n",
       "2  128.36526 -4.667750 -2.351404  0.693398 -4.196365 -0.167289   \n",
       "3  180.37506 -4.577429 -1.441989 -0.926254 -2.476596 -2.970399   \n",
       "4  483.26485  7.457590 -5.626451  3.329290 -0.839178 -5.198753   \n",
       "\n",
       "                  genre  \n",
       "0                   pop  \n",
       "1                   pop  \n",
       "2  classic pop and rock  \n",
       "3  classic pop and rock  \n",
       "4  classic pop and rock  "
      ]
     },
     "execution_count": 24,
     "metadata": {},
     "output_type": "execute_result"
    }
   ],
   "source": [
    "test_vectors = pca_apply(test)\n",
    "test = pd.concat([test['title'],test.loc[:,'loudness':'duration'], test_vectors],axis=1)\n",
    "test['genre'] = mod.generate_predictions()\n",
    "test.head()"
   ]
  },
  {
   "cell_type": "code",
   "execution_count": 25,
   "id": "359decfa",
   "metadata": {},
   "outputs": [],
   "source": [
    "test[['title','genre']].to_csv('Prediction.csv',index=False)"
   ]
  },
  {
   "cell_type": "code",
   "execution_count": null,
   "id": "1fa2a2b3",
   "metadata": {},
   "outputs": [],
   "source": []
  }
 ],
 "metadata": {
  "kernelspec": {
   "display_name": "Python 3 (ipykernel)",
   "language": "python",
   "name": "python3"
  },
  "language_info": {
   "codemirror_mode": {
    "name": "ipython",
    "version": 3
   },
   "file_extension": ".py",
   "mimetype": "text/x-python",
   "name": "python",
   "nbconvert_exporter": "python",
   "pygments_lexer": "ipython3",
   "version": "3.7.9"
  }
 },
 "nbformat": 4,
 "nbformat_minor": 5
}
